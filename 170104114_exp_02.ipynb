{
  "nbformat": 4,
  "nbformat_minor": 0,
  "metadata": {
    "colab": {
      "name": "170104114_exp_02.ipynb",
      "provenance": [],
      "collapsed_sections": []
    },
    "kernelspec": {
      "display_name": "Python 3",
      "name": "python3"
    },
    "language_info": {
      "name": "python"
    }
  },
  "cells": [
    {
      "cell_type": "code",
      "metadata": {
        "colab": {
          "base_uri": "https://localhost:8080/"
        },
        "id": "nX6afh4ohmkN",
        "outputId": "535a80df-7016-4bba-c994-a98326f9c32f"
      },
      "source": [
        "from google.colab import drive\n",
        "drive.mount('/content/drive')"
      ],
      "execution_count": 1,
      "outputs": [
        {
          "output_type": "stream",
          "name": "stdout",
          "text": [
            "Drive already mounted at /content/drive; to attempt to forcibly remount, call drive.mount(\"/content/drive\", force_remount=True).\n"
          ]
        }
      ]
    },
    {
      "cell_type": "code",
      "metadata": {
        "id": "hx6ocNaLrPrp"
      },
      "source": [
        "import matplotlib.pyplot as plt\n",
        "import numpy as np\n",
        "import pandas as pd\n",
        "from numpy import mean\n",
        "import torch\n",
        "from torchvision import datasets, transforms, models\n",
        "from torch.autograd import Variable\n",
        "import torch\n",
        "from torch.utils.data import Dataset\n",
        "from PIL import Image\n",
        "\n",
        "from torch import nn"
      ],
      "execution_count": 2,
      "outputs": []
    },
    {
      "cell_type": "code",
      "metadata": {
        "colab": {
          "base_uri": "https://localhost:8080/",
          "height": 203
        },
        "id": "jlC00L4Xrxni",
        "outputId": "e7ba1cc9-2d04-4721-cd4a-4d093b03456b"
      },
      "source": [
        "df = pd.read_csv('/content/drive/MyDrive/Colab Notebooks/Soft Computing/DatasetA_softcomputing2/training-a.csv', low_memory=False)\n",
        "df.head()"
      ],
      "execution_count": 4,
      "outputs": [
        {
          "output_type": "execute_result",
          "data": {
            "text/html": [
              "<div>\n",
              "<style scoped>\n",
              "    .dataframe tbody tr th:only-of-type {\n",
              "        vertical-align: middle;\n",
              "    }\n",
              "\n",
              "    .dataframe tbody tr th {\n",
              "        vertical-align: top;\n",
              "    }\n",
              "\n",
              "    .dataframe thead th {\n",
              "        text-align: right;\n",
              "    }\n",
              "</style>\n",
              "<table border=\"1\" class=\"dataframe\">\n",
              "  <thead>\n",
              "    <tr style=\"text-align: right;\">\n",
              "      <th></th>\n",
              "      <th>filename</th>\n",
              "      <th>original filename</th>\n",
              "      <th>scanid</th>\n",
              "      <th>digit</th>\n",
              "      <th>database name original</th>\n",
              "      <th>contributing team</th>\n",
              "      <th>database name</th>\n",
              "    </tr>\n",
              "  </thead>\n",
              "  <tbody>\n",
              "    <tr>\n",
              "      <th>0</th>\n",
              "      <td>a00000.png</td>\n",
              "      <td>Scan_58_digit_5_num_8.png</td>\n",
              "      <td>58</td>\n",
              "      <td>5</td>\n",
              "      <td>BHDDB</td>\n",
              "      <td>Buet_Broncos</td>\n",
              "      <td>training-a</td>\n",
              "    </tr>\n",
              "    <tr>\n",
              "      <th>1</th>\n",
              "      <td>a00001.png</td>\n",
              "      <td>Scan_73_digit_3_num_5.png</td>\n",
              "      <td>73</td>\n",
              "      <td>3</td>\n",
              "      <td>BHDDB</td>\n",
              "      <td>Buet_Broncos</td>\n",
              "      <td>training-a</td>\n",
              "    </tr>\n",
              "    <tr>\n",
              "      <th>2</th>\n",
              "      <td>a00002.png</td>\n",
              "      <td>Scan_18_digit_1_num_3.png</td>\n",
              "      <td>18</td>\n",
              "      <td>1</td>\n",
              "      <td>BHDDB</td>\n",
              "      <td>Buet_Broncos</td>\n",
              "      <td>training-a</td>\n",
              "    </tr>\n",
              "    <tr>\n",
              "      <th>3</th>\n",
              "      <td>a00003.png</td>\n",
              "      <td>Scan_166_digit_7_num_3.png</td>\n",
              "      <td>166</td>\n",
              "      <td>7</td>\n",
              "      <td>BHDDB</td>\n",
              "      <td>Buet_Broncos</td>\n",
              "      <td>training-a</td>\n",
              "    </tr>\n",
              "    <tr>\n",
              "      <th>4</th>\n",
              "      <td>a00004.png</td>\n",
              "      <td>Scan_108_digit_0_num_1.png</td>\n",
              "      <td>108</td>\n",
              "      <td>0</td>\n",
              "      <td>BHDDB</td>\n",
              "      <td>Buet_Broncos</td>\n",
              "      <td>training-a</td>\n",
              "    </tr>\n",
              "  </tbody>\n",
              "</table>\n",
              "</div>"
            ],
            "text/plain": [
              "     filename           original filename  ...  contributing team  database name\n",
              "0  a00000.png   Scan_58_digit_5_num_8.png  ...       Buet_Broncos     training-a\n",
              "1  a00001.png   Scan_73_digit_3_num_5.png  ...       Buet_Broncos     training-a\n",
              "2  a00002.png   Scan_18_digit_1_num_3.png  ...       Buet_Broncos     training-a\n",
              "3  a00003.png  Scan_166_digit_7_num_3.png  ...       Buet_Broncos     training-a\n",
              "4  a00004.png  Scan_108_digit_0_num_1.png  ...       Buet_Broncos     training-a\n",
              "\n",
              "[5 rows x 7 columns]"
            ]
          },
          "metadata": {},
          "execution_count": 4
        }
      ]
    },
    {
      "cell_type": "code",
      "metadata": {
        "id": "wWSR-FfKrggx"
      },
      "source": [
        "col = list(df.columns)"
      ],
      "execution_count": 5,
      "outputs": []
    },
    {
      "cell_type": "code",
      "metadata": {
        "colab": {
          "base_uri": "https://localhost:8080/"
        },
        "id": "7fblNph_roHy",
        "outputId": "02883185-7bb6-4704-8fb8-e5d3c16b5bf7"
      },
      "source": [
        "drop_col = []\n",
        "for i in col:\n",
        "  if i!= 'filename' and i!= 'digit':\n",
        "    drop_col.append(i)\n",
        "\n",
        "print(drop_col)"
      ],
      "execution_count": 6,
      "outputs": [
        {
          "output_type": "stream",
          "name": "stdout",
          "text": [
            "['original filename', 'scanid', 'database name original', 'contributing team', 'database name']\n"
          ]
        }
      ]
    },
    {
      "cell_type": "code",
      "metadata": {
        "colab": {
          "base_uri": "https://localhost:8080/",
          "height": 417
        },
        "id": "ZtURsw5bsS3S",
        "outputId": "ae0c3a8c-1faa-4874-ce05-fb4fc9583f2f"
      },
      "source": [
        "df = df.drop(columns=drop_col)\n",
        "df"
      ],
      "execution_count": 7,
      "outputs": [
        {
          "output_type": "execute_result",
          "data": {
            "text/html": [
              "<div>\n",
              "<style scoped>\n",
              "    .dataframe tbody tr th:only-of-type {\n",
              "        vertical-align: middle;\n",
              "    }\n",
              "\n",
              "    .dataframe tbody tr th {\n",
              "        vertical-align: top;\n",
              "    }\n",
              "\n",
              "    .dataframe thead th {\n",
              "        text-align: right;\n",
              "    }\n",
              "</style>\n",
              "<table border=\"1\" class=\"dataframe\">\n",
              "  <thead>\n",
              "    <tr style=\"text-align: right;\">\n",
              "      <th></th>\n",
              "      <th>filename</th>\n",
              "      <th>digit</th>\n",
              "    </tr>\n",
              "  </thead>\n",
              "  <tbody>\n",
              "    <tr>\n",
              "      <th>0</th>\n",
              "      <td>a00000.png</td>\n",
              "      <td>5</td>\n",
              "    </tr>\n",
              "    <tr>\n",
              "      <th>1</th>\n",
              "      <td>a00001.png</td>\n",
              "      <td>3</td>\n",
              "    </tr>\n",
              "    <tr>\n",
              "      <th>2</th>\n",
              "      <td>a00002.png</td>\n",
              "      <td>1</td>\n",
              "    </tr>\n",
              "    <tr>\n",
              "      <th>3</th>\n",
              "      <td>a00003.png</td>\n",
              "      <td>7</td>\n",
              "    </tr>\n",
              "    <tr>\n",
              "      <th>4</th>\n",
              "      <td>a00004.png</td>\n",
              "      <td>0</td>\n",
              "    </tr>\n",
              "    <tr>\n",
              "      <th>...</th>\n",
              "      <td>...</td>\n",
              "      <td>...</td>\n",
              "    </tr>\n",
              "    <tr>\n",
              "      <th>19697</th>\n",
              "      <td>a19697.png</td>\n",
              "      <td>4</td>\n",
              "    </tr>\n",
              "    <tr>\n",
              "      <th>19698</th>\n",
              "      <td>a19698.png</td>\n",
              "      <td>3</td>\n",
              "    </tr>\n",
              "    <tr>\n",
              "      <th>19699</th>\n",
              "      <td>a19699.png</td>\n",
              "      <td>8</td>\n",
              "    </tr>\n",
              "    <tr>\n",
              "      <th>19700</th>\n",
              "      <td>a19700.png</td>\n",
              "      <td>3</td>\n",
              "    </tr>\n",
              "    <tr>\n",
              "      <th>19701</th>\n",
              "      <td>a19701.png</td>\n",
              "      <td>8</td>\n",
              "    </tr>\n",
              "  </tbody>\n",
              "</table>\n",
              "<p>19702 rows × 2 columns</p>\n",
              "</div>"
            ],
            "text/plain": [
              "         filename  digit\n",
              "0      a00000.png      5\n",
              "1      a00001.png      3\n",
              "2      a00002.png      1\n",
              "3      a00003.png      7\n",
              "4      a00004.png      0\n",
              "...           ...    ...\n",
              "19697  a19697.png      4\n",
              "19698  a19698.png      3\n",
              "19699  a19699.png      8\n",
              "19700  a19700.png      3\n",
              "19701  a19701.png      8\n",
              "\n",
              "[19702 rows x 2 columns]"
            ]
          },
          "metadata": {},
          "execution_count": 7
        }
      ]
    },
    {
      "cell_type": "code",
      "metadata": {
        "id": "FKMhp91PtDqy"
      },
      "source": [
        "# Hyperparameters\n",
        "\n",
        "batch_size = 100\n",
        "num_iters = 40000\n",
        "input_dim = 128*128\n",
        "num_hidden = 200  \n",
        "output_dim = 10\n",
        "\n",
        "learning_rate = 0.01  # More power so we can learn faster! previously it was 0.001\n",
        "\n",
        "# Device\n",
        "device = torch.device(\"cuda:0\" if torch.cuda.is_available() else \"cpu\")"
      ],
      "execution_count": 8,
      "outputs": []
    },
    {
      "cell_type": "code",
      "metadata": {
        "id": "WS7MRDIJslYp"
      },
      "source": [
        "mean = [0.5,]\n",
        "std = [0.5, ]"
      ],
      "execution_count": 9,
      "outputs": []
    },
    {
      "cell_type": "code",
      "metadata": {
        "id": "hRzqRadosbmJ"
      },
      "source": [
        "train_transform = transforms.Compose([\n",
        "    transforms.Resize(128),\n",
        "    transforms.ToTensor(),\n",
        "    transforms.Normalize(mean, std)\n",
        "])\n",
        "\n",
        "test_transform = transforms.Compose([\n",
        "        transforms.Resize(128),\n",
        "        transforms.ToTensor(),\n",
        "        transforms.Normalize(mean, std)\n",
        "])"
      ],
      "execution_count": 10,
      "outputs": []
    },
    {
      "cell_type": "code",
      "metadata": {
        "id": "v4cXleILsq55"
      },
      "source": [
        "class Dataset(Dataset):\n",
        "    def __init__(self, df, root, transform=None):\n",
        "        self.data = df\n",
        "        self.root = root\n",
        "        self.transform = transform\n",
        "        \n",
        "    def __len__(self):\n",
        "        return len(self.data)\n",
        "    \n",
        "    def __getitem__(self, index):\n",
        "        item = self.data.iloc[index]\n",
        "        \n",
        "        path = self.root + \"/\" + item[0]\n",
        "        image = Image.open(path).convert('L')\n",
        "        label = item[1]\n",
        "        \n",
        "        if self.transform is not None:\n",
        "            image = self.transform(image)\n",
        "            \n",
        "        return image, label"
      ],
      "execution_count": 11,
      "outputs": []
    },
    {
      "cell_type": "code",
      "metadata": {
        "id": "3_uk5juSs0LC"
      },
      "source": [
        "Path = '/content/drive/MyDrive/Colab Notebooks/Soft Computing/DatasetA_softcomputing2/training-a'"
      ],
      "execution_count": 12,
      "outputs": []
    },
    {
      "cell_type": "code",
      "metadata": {
        "id": "tQ8TRZX-sn-p"
      },
      "source": [
        "train_data  = Dataset(df, Path, train_transform)\n",
        "test_data = Dataset(df, Path, test_transform)"
      ],
      "execution_count": 13,
      "outputs": []
    },
    {
      "cell_type": "code",
      "metadata": {
        "id": "4Cnjjn9es930"
      },
      "source": [
        "'''\n",
        "MAKING DATASET ITERABLE\n",
        "'''\n",
        "num_epochs = num_iters / (len(train_data) / batch_size)\n",
        "num_epochs = int(num_epochs)\n",
        "\n",
        "train_loader = torch.utils.data.DataLoader(dataset=train_data, \n",
        "                                           batch_size=batch_size, \n",
        "                                           shuffle=True)   # It's better to shuffle the whole training dataset! \n",
        "\n",
        "test_loader = torch.utils.data.DataLoader(dataset=test_data, \n",
        "                                          batch_size=batch_size, \n",
        "                                          shuffle=False)  "
      ],
      "execution_count": 14,
      "outputs": []
    },
    {
      "cell_type": "code",
      "metadata": {
        "colab": {
          "base_uri": "https://localhost:8080/"
        },
        "id": "FhWSoTErI_nx",
        "outputId": "cd23fc05-f7fe-4ae9-f2b7-b5725b73498d"
      },
      "source": [
        "print(num_epochs)"
      ],
      "execution_count": 18,
      "outputs": [
        {
          "output_type": "stream",
          "name": "stdout",
          "text": [
            "203\n"
          ]
        }
      ]
    },
    {
      "cell_type": "code",
      "metadata": {
        "id": "csQXhBcCuJt7"
      },
      "source": [
        "class NeuralNetworkModel(nn.Module):\n",
        "    def __init__(self, input_size, num_classes, num_hidden):\n",
        "        super().__init__()\n",
        "       \n",
        "        self.linear_1 = nn.Linear(input_size, num_hidden)        \n",
        "        self.relu_1 = nn.ReLU()\n",
        "         \n",
        "        self.linear_2 = nn.Linear(num_hidden, num_hidden)    \n",
        "        self.relu_2 = nn.ReLU()\n",
        "        \n",
        "        self.linear_3 = nn.Linear(num_hidden, num_hidden)   \n",
        "        self.relu_3 = nn.ReLU()\n",
        "  \n",
        "        self.linear_4 = nn.Linear(num_hidden, num_hidden)\n",
        "        self.relu_4 = nn.ReLU()\n",
        "    \n",
        "        self.linear_5= nn.Linear(num_hidden, num_hidden) \n",
        "        self.relu_5= nn.ReLU()\n",
        "\n",
        "        self.linear_6 = nn.Linear(num_hidden, num_hidden) \n",
        "        self.relu_6 = nn.ReLU()\n",
        "  \n",
        "        self.linear_out = nn.Linear(num_hidden, num_classes)\n",
        " \n",
        "    def forward(self, x):\n",
        "        # 1st  layer\n",
        "        out  = self.linear_1(x)\n",
        "        out = self.relu_1(out)\n",
        "        \n",
        "        out  = self.linear_2(out)\n",
        "        out = self.relu_2(out)\n",
        " \n",
        "        out  = self.linear_3(out)\n",
        "        out = self.relu_3(out)\n",
        " \n",
        "        out  = self.linear_4(out)\n",
        "        out = self.relu_4(out)\n",
        " \n",
        "        out  = self.linear_5(out)\n",
        "        out = self.relu_5(out)\n",
        " \n",
        "        out  = self.linear_6(out)\n",
        "        out = self.relu_6(out)\n",
        "        \n",
        "        # Linear layer (output)\n",
        "        probas  = self.linear_out(out)\n",
        "        return probas\n",
        " "
      ],
      "execution_count": 15,
      "outputs": []
    },
    {
      "cell_type": "code",
      "metadata": {
        "colab": {
          "base_uri": "https://localhost:8080/"
        },
        "id": "IFHq-7rtumXz",
        "outputId": "cca6f9f8-8dfb-4e4d-ff6d-c4f20697a0c8"
      },
      "source": [
        "'''\n",
        "INSTANTIATE MODEL CLASS\n",
        "'''\n",
        "model = NeuralNetworkModel(input_size = input_dim,\n",
        "                           num_classes = output_dim,\n",
        "                           num_hidden = num_hidden)\n",
        "# To enable GPU\n",
        "model.to(device)"
      ],
      "execution_count": 16,
      "outputs": [
        {
          "output_type": "execute_result",
          "data": {
            "text/plain": [
              "NeuralNetworkModel(\n",
              "  (linear_1): Linear(in_features=16384, out_features=200, bias=True)\n",
              "  (relu_1): ReLU()\n",
              "  (linear_2): Linear(in_features=200, out_features=200, bias=True)\n",
              "  (relu_2): ReLU()\n",
              "  (linear_3): Linear(in_features=200, out_features=200, bias=True)\n",
              "  (relu_3): ReLU()\n",
              "  (linear_4): Linear(in_features=200, out_features=200, bias=True)\n",
              "  (relu_4): ReLU()\n",
              "  (linear_5): Linear(in_features=200, out_features=200, bias=True)\n",
              "  (relu_5): ReLU()\n",
              "  (linear_6): Linear(in_features=200, out_features=200, bias=True)\n",
              "  (relu_6): ReLU()\n",
              "  (linear_out): Linear(in_features=200, out_features=10, bias=True)\n",
              ")"
            ]
          },
          "metadata": {},
          "execution_count": 16
        }
      ]
    },
    {
      "cell_type": "code",
      "metadata": {
        "id": "bCbbLREZuq1S"
      },
      "source": [
        "criterion = nn.CrossEntropyLoss()\n",
        "optimizer = torch.optim.SGD(model.parameters(), lr=learning_rate)"
      ],
      "execution_count": 17,
      "outputs": []
    },
    {
      "cell_type": "code",
      "metadata": {
        "colab": {
          "base_uri": "https://localhost:8080/"
        },
        "id": "jNiQFsb5uzT6",
        "outputId": "c251380d-4886-4cc9-f05f-5d840ac5f5b4"
      },
      "source": [
        "'''\n",
        "TRAIN THE MODEL\n",
        "'''\n",
        "iter = 0\n",
        "for epoch in range(num_epochs):\n",
        "    for i, (images, labels) in enumerate(train_loader):\n",
        "\n",
        "        images = images.view(-1, 128*128).to(device)\n",
        "        labels = labels.to(device)\n",
        "\n",
        "        # Clear gradients w.r.t. parameters\n",
        "        optimizer.zero_grad()\n",
        "\n",
        "        # Forward pass to get output/logits\n",
        "        outputs = model(images) \n",
        "\n",
        "        # Calculate Loss: softmax --> cross entropy loss\n",
        "        loss = criterion(outputs, labels)\n",
        "\n",
        "        # Getting gradients w.r.t. parameters\n",
        "        loss.backward()\n",
        "\n",
        "        # Updating parameters\n",
        "        optimizer.step()\n",
        "\n",
        "        iter += 1\n",
        "\n",
        "        if iter % 500 == 0:\n",
        "            # Calculate Accuracy         \n",
        "            correct = 0\n",
        "            total = 0\n",
        "            # Iterate through test dataset\n",
        "            for images, labels in test_loader:\n",
        "               \n",
        "                images = images.view(-1, 128*128).to(device)\n",
        "\n",
        "                # Forward pass only to get logits/output\n",
        "                outputs = model(images)\n",
        "\n",
        "                # Get predictions from the maximum value\n",
        "                _, predicted = torch.max(outputs, 1)\n",
        "\n",
        "                # Total number of labels\n",
        "                total += labels.size(0)\n",
        "\n",
        "\n",
        "                # Total correct predictions\n",
        "                if torch.cuda.is_available():\n",
        "                    correct += (predicted.cpu() == labels.cpu()).sum() \n",
        "                else:\n",
        "                    correct += (predicted == labels).sum()\n",
        "\n",
        "            accuracy = 100 * correct.item() / total\n",
        "\n",
        "            # Print Loss\n",
        "            print('Iteration: {}. Loss: {}. Accuracy: {}'.format(iter, loss.item(), accuracy))"
      ],
      "execution_count": 19,
      "outputs": [
        {
          "output_type": "stream",
          "name": "stdout",
          "text": [
            "Iteration: 500. Loss: 2.3032267093658447. Accuracy: 10.029438635671506\n",
            "Iteration: 1000. Loss: 2.3033571243286133. Accuracy: 10.029438635671506\n",
            "Iteration: 1500. Loss: 2.3020739555358887. Accuracy: 10.029438635671506\n",
            "Iteration: 2000. Loss: 2.299471139907837. Accuracy: 10.039589889351335\n",
            "Iteration: 2500. Loss: 2.300816297531128. Accuracy: 10.877068317937265\n",
            "Iteration: 3000. Loss: 2.3017690181732178. Accuracy: 15.556796264338645\n",
            "Iteration: 3500. Loss: 2.300701379776001. Accuracy: 17.861130849659933\n",
            "Iteration: 4000. Loss: 2.2983973026275635. Accuracy: 19.393970155314182\n",
            "Iteration: 4500. Loss: 2.2965807914733887. Accuracy: 27.43376306973911\n",
            "Iteration: 5000. Loss: 2.292062282562256. Accuracy: 25.880621256725206\n",
            "Iteration: 5500. Loss: 2.2828269004821777. Accuracy: 17.50076134402599\n",
            "Iteration: 6000. Loss: 2.2184038162231445. Accuracy: 17.505836970865904\n",
            "Iteration: 6500. Loss: 2.287060499191284. Accuracy: 10.059892396710994\n",
            "Iteration: 7000. Loss: 2.290260076522827. Accuracy: 13.729570601969343\n",
            "Iteration: 7500. Loss: 2.2881336212158203. Accuracy: 14.866511014110243\n",
            "Iteration: 8000. Loss: 2.2775800228118896. Accuracy: 19.850776570906508\n",
            "Iteration: 8500. Loss: 2.2070538997650146. Accuracy: 17.399248807227693\n",
            "Iteration: 9000. Loss: 2.1556174755096436. Accuracy: 20.28220485229926\n",
            "Iteration: 9500. Loss: 2.2420408725738525. Accuracy: 28.337224647243936\n",
            "Iteration: 10000. Loss: 2.1861214637756348. Accuracy: 27.565729367576896\n",
            "Iteration: 10500. Loss: 2.186673402786255. Accuracy: 17.82560146178053\n",
            "Iteration: 11000. Loss: 2.003229856491089. Accuracy: 30.996853111359254\n",
            "Iteration: 11500. Loss: 2.2986865043640137. Accuracy: 18.150441579535073\n",
            "Iteration: 12000. Loss: 2.4415981769561768. Accuracy: 20.297431732819003\n",
            "Iteration: 12500. Loss: 2.1432337760925293. Accuracy: 24.139681250634453\n",
            "Iteration: 13000. Loss: 1.6968252658843994. Accuracy: 34.89493452441376\n",
            "Iteration: 13500. Loss: 1.6335258483886719. Accuracy: 46.94447264237133\n",
            "Iteration: 14000. Loss: 1.6793502569198608. Accuracy: 47.23885899908639\n",
            "Iteration: 14500. Loss: 1.5562268495559692. Accuracy: 50.40605014719318\n",
            "Iteration: 15000. Loss: 1.4344676733016968. Accuracy: 47.81240483199675\n",
            "Iteration: 15500. Loss: 1.527978777885437. Accuracy: 51.8932088112882\n",
            "Iteration: 16000. Loss: 1.6734241247177124. Accuracy: 45.68064155923256\n",
            "Iteration: 16500. Loss: 2.009504556655884. Accuracy: 47.36067404324434\n",
            "Iteration: 17000. Loss: 1.7484298944473267. Accuracy: 37.579941122728656\n",
            "Iteration: 17500. Loss: 1.9665589332580566. Accuracy: 36.2145975027916\n",
            "Iteration: 18000. Loss: 1.3102357387542725. Accuracy: 54.31428281392752\n",
            "Iteration: 18500. Loss: 1.5764400959014893. Accuracy: 55.50197949446757\n",
            "Iteration: 19000. Loss: 1.0923367738723755. Accuracy: 60.531925692823066\n",
            "Iteration: 19500. Loss: 1.3481361865997314. Accuracy: 66.75971982539843\n",
            "Iteration: 20000. Loss: 1.9715076684951782. Accuracy: 30.05786214597503\n",
            "Iteration: 20500. Loss: 0.9342482686042786. Accuracy: 67.21652624099076\n",
            "Iteration: 21000. Loss: 1.03824782371521. Accuracy: 69.94721348086489\n",
            "Iteration: 21500. Loss: 1.2009854316711426. Accuracy: 61.34910161404934\n",
            "Iteration: 22000. Loss: 1.2500284910202026. Accuracy: 59.21733834128515\n",
            "Iteration: 22500. Loss: 1.5364274978637695. Accuracy: 65.5060399959395\n",
            "Iteration: 23000. Loss: 2.4035956859588623. Accuracy: 45.15277636788144\n",
            "Iteration: 23500. Loss: 1.0595602989196777. Accuracy: 67.0185767942341\n",
            "Iteration: 24000. Loss: 0.8999078869819641. Accuracy: 70.26697797177951\n",
            "Iteration: 24500. Loss: 0.7590873837471008. Accuracy: 75.40351233377322\n",
            "Iteration: 25000. Loss: 1.3210439682006836. Accuracy: 44.40158359557405\n",
            "Iteration: 25500. Loss: 1.113372564315796. Accuracy: 73.14993401685108\n",
            "Iteration: 26000. Loss: 0.7500030398368835. Accuracy: 69.59699522891077\n",
            "Iteration: 26500. Loss: 0.8533841967582703. Accuracy: 75.92630189828444\n",
            "Iteration: 27000. Loss: 0.5390610694885254. Accuracy: 77.65201502385544\n",
            "Iteration: 27500. Loss: 0.8339517116546631. Accuracy: 74.99238655974013\n",
            "Iteration: 28000. Loss: 0.7537348866462708. Accuracy: 78.36260278144351\n",
            "Iteration: 28500. Loss: 1.7128262519836426. Accuracy: 40.09745203532636\n",
            "Iteration: 29000. Loss: 0.6683085560798645. Accuracy: 69.82032280986702\n",
            "Iteration: 29500. Loss: 0.7079898118972778. Accuracy: 70.61719622373363\n",
            "Iteration: 30000. Loss: 1.1630417108535767. Accuracy: 67.14039183839205\n",
            "Iteration: 30500. Loss: 1.8516104221343994. Accuracy: 48.46716069434575\n",
            "Iteration: 31000. Loss: 0.660278856754303. Accuracy: 77.32209927926098\n",
            "Iteration: 31500. Loss: 0.5793845057487488. Accuracy: 78.36260278144351\n",
            "Iteration: 32000. Loss: 0.6175408363342285. Accuracy: 74.97208405238047\n",
            "Iteration: 32500. Loss: 0.436033695936203. Accuracy: 82.03228098670186\n",
            "Iteration: 33000. Loss: 1.511048436164856. Accuracy: 47.42665719216323\n",
            "Iteration: 33500. Loss: 0.6099424958229065. Accuracy: 78.09359455892803\n",
            "Iteration: 34000. Loss: 0.5626718401908875. Accuracy: 82.82915440056847\n",
            "Iteration: 34500. Loss: 0.4239150285720825. Accuracy: 86.15368998071261\n",
            "Iteration: 35000. Loss: 0.5379927158355713. Accuracy: 85.8034717287585\n",
            "Iteration: 35500. Loss: 1.0381673574447632. Accuracy: 59.57263222007918\n",
            "Iteration: 36000. Loss: 0.5152651071548462. Accuracy: 83.48391026291748\n",
            "Iteration: 36500. Loss: 0.5055557489395142. Accuracy: 82.95096944472643\n",
            "Iteration: 37000. Loss: 0.44249239563941956. Accuracy: 81.48411328799106\n",
            "Iteration: 37500. Loss: 0.4519573450088501. Accuracy: 87.29570601969343\n",
            "Iteration: 38000. Loss: 0.5953980088233948. Accuracy: 78.35245152776368\n",
            "Iteration: 38500. Loss: 0.4850273132324219. Accuracy: 69.45487767739316\n",
            "Iteration: 39000. Loss: 0.21523135900497437. Accuracy: 89.48330118769668\n",
            "Iteration: 39500. Loss: 1.1711782217025757. Accuracy: 69.1604913206781\n",
            "Iteration: 40000. Loss: 2.0590901374816895. Accuracy: 49.14221906405441\n"
          ]
        }
      ]
    },
    {
      "cell_type": "code",
      "metadata": {
        "colab": {
          "base_uri": "https://localhost:8080/",
          "height": 203
        },
        "id": "I20cZ36j1a6I",
        "outputId": "be0dc924-8057-4586-ecc2-eb4ec43cf9f5"
      },
      "source": [
        "df2 = pd.read_csv('/content/drive/MyDrive/Colab Notebooks/Soft Computing/128x128_exp2.csv', names=[\"Iteration\", \"Loss\", \"Accuracy\"], low_memory=False)\n",
        "df2.head()"
      ],
      "execution_count": 20,
      "outputs": [
        {
          "output_type": "execute_result",
          "data": {
            "text/html": [
              "<div>\n",
              "<style scoped>\n",
              "    .dataframe tbody tr th:only-of-type {\n",
              "        vertical-align: middle;\n",
              "    }\n",
              "\n",
              "    .dataframe tbody tr th {\n",
              "        vertical-align: top;\n",
              "    }\n",
              "\n",
              "    .dataframe thead th {\n",
              "        text-align: right;\n",
              "    }\n",
              "</style>\n",
              "<table border=\"1\" class=\"dataframe\">\n",
              "  <thead>\n",
              "    <tr style=\"text-align: right;\">\n",
              "      <th></th>\n",
              "      <th>Iteration</th>\n",
              "      <th>Loss</th>\n",
              "      <th>Accuracy</th>\n",
              "    </tr>\n",
              "  </thead>\n",
              "  <tbody>\n",
              "    <tr>\n",
              "      <th>0</th>\n",
              "      <td>500</td>\n",
              "      <td>2.3032267093658447.</td>\n",
              "      <td>10.029439</td>\n",
              "    </tr>\n",
              "    <tr>\n",
              "      <th>1</th>\n",
              "      <td>1000</td>\n",
              "      <td>2.3033571243286133.</td>\n",
              "      <td>10.029439</td>\n",
              "    </tr>\n",
              "    <tr>\n",
              "      <th>2</th>\n",
              "      <td>1500</td>\n",
              "      <td>2.3020739555358887.</td>\n",
              "      <td>10.029439</td>\n",
              "    </tr>\n",
              "    <tr>\n",
              "      <th>3</th>\n",
              "      <td>2000</td>\n",
              "      <td>2.299471139907837.</td>\n",
              "      <td>10.039590</td>\n",
              "    </tr>\n",
              "    <tr>\n",
              "      <th>4</th>\n",
              "      <td>2500</td>\n",
              "      <td>2.300816297531128.</td>\n",
              "      <td>10.877068</td>\n",
              "    </tr>\n",
              "  </tbody>\n",
              "</table>\n",
              "</div>"
            ],
            "text/plain": [
              "   Iteration                 Loss   Accuracy\n",
              "0        500  2.3032267093658447.  10.029439\n",
              "1       1000  2.3033571243286133.  10.029439\n",
              "2       1500  2.3020739555358887.  10.029439\n",
              "3       2000   2.299471139907837.  10.039590\n",
              "4       2500   2.300816297531128.  10.877068"
            ]
          },
          "metadata": {},
          "execution_count": 20
        }
      ]
    },
    {
      "cell_type": "code",
      "metadata": {
        "id": "Tlr84d7w3H1b"
      },
      "source": [
        "Iteration = df2['Iteration'].tolist()\n",
        "Loss = [2.3032267093658447, 2.3033571243286133, 2.3020739555358887, 2.299471139907837, 2.300816297531128, 2.3017690181732178, \n",
        "        2.300701379776001, 2.2983973026275635, 2.2965807914733887, 2.292062282562256, 2.2828269004821777, 2.2184038162231445, \n",
        "        2.287060499191284, 2.290260076522827, 2.2881336212158203,2.2775800228118896, 2.2070538997650146, 2.1556174755096436, \n",
        "        2.2420408725738525, 2.1861214637756348, 2.186673402786255, 2.003229856491089, 2.2986865043640137, 2.4415981769561768, \n",
        "        2.1432337760925293, 1.6968252658843994, 1.633525848388671, 1.6793502569198608, 1.5562268495559692, 1.4344676733016968,\n",
        "        1.527978777885437, 1.6734241247177124, 2.009504556655884, 1.7484298944473267, 1.9665589332580566, 1.3102357387542725, \n",
        "        1.5764400959014893, 1.0923367738723755, 1.3481361865997314, 1.9715076684951782, 0.9342482686042786, 1.03824782371521, \n",
        "        1.2009854316711426, 1.2500284910202026, 1.5364274978637695, 2.4035956859588623, 1.0595602989196777, 0.8999078869819641,\n",
        "        0.7590873837471008, 1.3210439682006836, 1.113372564315796, 0.7500030398368835, 0.8533841967582703, 0.5390610694885254, \n",
        "        0.8339517116546631, 0.7537348866462708, 1.7128262519836426, 0.6683085560798645, 0.7079898118972778, 1.1630417108535767,\n",
        "        1.8516104221343994, 0.660278856754303, 0.5793845057487488, 0.6175408363342285, 0.436033695936203, 1.511048436164856, \n",
        "        0.6099424958229065, 0.5626718401908875, 0.4239150285720825, 0.5379927158355713, 1.0381673574447632, 0.5152651071548462, 0.5055557489395142, \n",
        "        0.44249239563941956, 0.4519573450088501, 0.5953980088233948,0.4850273132324219, 0.21523135900497437, 1.1711782217025757]\n",
        "Accuracy = df2['Accuracy'].tolist()"
      ],
      "execution_count": 28,
      "outputs": []
    },
    {
      "cell_type": "code",
      "metadata": {
        "colab": {
          "base_uri": "https://localhost:8080/"
        },
        "id": "QSA6OHuV5vDV",
        "outputId": "186651ca-b164-41c0-833e-78c3f698a209"
      },
      "source": [
        "print(Iteration)\n",
        "print(Loss)\n",
        "print(Accuracy)"
      ],
      "execution_count": 29,
      "outputs": [
        {
          "output_type": "stream",
          "name": "stdout",
          "text": [
            "[500, 1000, 1500, 2000, 2500, 3000, 3500, 4000, 4500, 5000, 5500, 6000, 6500, 7000, 7500, 8000, 8500, 9000, 9500, 10000, 10500, 11000, 11500, 12000, 12500, 13000, 13500, 14000, 14500, 15000, 15500, 16000, 16500, 17000, 17500, 18000, 18500, 19000, 19500, 20000, 20500, 21000, 21500, 22000, 22500, 23000, 23500, 24000, 24500, 25000, 25500, 26000, 26500, 27000, 27500, 28000, 28500, 29000, 29500, 30000, 30500, 31000, 31500, 32000, 32500, 33000, 33500, 34000, 34500, 35000, 35500, 36000, 36500, 37000, 37500, 38000, 38500, 39000, 39500]\n",
            "[2.3032267093658447, 2.3033571243286133, 2.3020739555358887, 2.299471139907837, 2.300816297531128, 2.3017690181732178, 2.300701379776001, 2.2983973026275635, 2.2965807914733887, 2.292062282562256, 2.2828269004821777, 2.2184038162231445, 2.287060499191284, 2.290260076522827, 2.2881336212158203, 2.2775800228118896, 2.2070538997650146, 2.1556174755096436, 2.2420408725738525, 2.1861214637756348, 2.186673402786255, 2.003229856491089, 2.2986865043640137, 2.4415981769561768, 2.1432337760925293, 1.6968252658843994, 1.633525848388671, 1.6793502569198608, 1.5562268495559692, 1.4344676733016968, 1.527978777885437, 1.6734241247177124, 2.009504556655884, 1.7484298944473267, 1.9665589332580566, 1.3102357387542725, 1.5764400959014893, 1.0923367738723755, 1.3481361865997314, 1.9715076684951782, 0.9342482686042786, 1.03824782371521, 1.2009854316711426, 1.2500284910202026, 1.5364274978637695, 2.4035956859588623, 1.0595602989196777, 0.8999078869819641, 0.7590873837471008, 1.3210439682006836, 1.113372564315796, 0.7500030398368835, 0.8533841967582703, 0.5390610694885254, 0.8339517116546631, 0.7537348866462708, 1.7128262519836426, 0.6683085560798645, 0.7079898118972778, 1.1630417108535767, 1.8516104221343994, 0.660278856754303, 0.5793845057487488, 0.6175408363342285, 0.436033695936203, 1.511048436164856, 0.6099424958229065, 0.5626718401908875, 0.4239150285720825, 0.5379927158355713, 1.0381673574447632, 0.5152651071548462, 0.5055557489395142, 0.44249239563941956, 0.4519573450088501, 0.5953980088233948, 0.4850273132324219, 0.21523135900497437, 1.1711782217025757]\n",
            "[10.02943864, 10.02943864, 10.02943864, 10.03958989, 10.87706832, 15.55679626, 17.86113085, 19.39397016, 27.43376307, 25.88062126, 17.50076134, 17.50583697, 10.0598924, 13.7295706, 14.86651101, 19.85077657, 17.39924881, 20.28220485, 28.33722465, 27.56572937, 17.82560146, 30.99685311, 18.15044158, 20.29743173, 24.13968125, 34.89493452, 46.94447264, 47.238859000000005, 50.40605015, 47.81240483, 51.89320881, 45.68064156, 47.36067404, 37.57994112, 36.214597499999996, 54.31428281, 55.50197949, 60.53192569, 66.75971983, 30.05786215, 67.21652624, 69.94721348, 61.34910161, 59.21733834, 65.50604, 45.15277637, 67.01857679, 70.26697797, 75.40351233, 44.4015836, 73.14993402, 69.59699523, 75.92630190000001, 77.65201502, 74.99238656, 78.36260278, 40.09745204, 69.82032281, 70.61719622, 67.14039184, 48.46716069, 77.32209928, 78.36260278, 74.97208405, 82.03228099, 47.42665719, 78.09359456, 82.82915440000001, 86.15368998, 85.80347173, 59.57263222, 83.48391026, 82.95096944, 81.48411329, 87.29570602, 78.35245153, 69.45487768, 89.48330119, 69.16049132]\n"
          ]
        }
      ]
    },
    {
      "cell_type": "code",
      "metadata": {
        "colab": {
          "base_uri": "https://localhost:8080/"
        },
        "id": "rmTiNuHAo6wb",
        "outputId": "35db5f08-ddc6-4ebe-bf83-5975002f4b02"
      },
      "source": [
        "print(min(Loss))\n",
        "print(max(Accuracy))"
      ],
      "execution_count": 30,
      "outputs": [
        {
          "output_type": "stream",
          "name": "stdout",
          "text": [
            "0.21523135900497437\n",
            "89.48330119\n"
          ]
        }
      ]
    },
    {
      "cell_type": "code",
      "metadata": {
        "colab": {
          "base_uri": "https://localhost:8080/",
          "height": 621
        },
        "id": "NQUlPNXi3iR8",
        "outputId": "2350f9bf-4c59-464f-9ec5-155862e97200"
      },
      "source": [
        "x= np.array(Iteration)\n",
        "y= np.array(Loss)\n",
        "plt.figure(figsize=(12,10))\n",
        "plt.plot(x, y)\n",
        "plt.title(\"Loss Vs Iteration\")\n",
        "plt.ylabel(\"Loss\")\n",
        "plt.xlabel(\"Iterations\")\n",
        "plt.show()"
      ],
      "execution_count": 31,
      "outputs": [
        {
          "output_type": "display_data",
          "data": {
            "image/png": "[encoded data removed]",
            "text/plain": [
              "<Figure size 864x720 with 1 Axes>"
            ]
          },
          "metadata": {
            "needs_background": "light"
          }
        }
      ]
    },
    {
      "cell_type": "code",
      "metadata": {
        "colab": {
          "base_uri": "https://localhost:8080/",
          "height": 621
        },
        "id": "liI6Px0EX8Mp",
        "outputId": "df69f323-6f3e-4350-9152-5f76e25ae85c"
      },
      "source": [
        "y= np.array(Accuracy)\n",
        "x= np.array(Iteration)\n",
        "plt.figure(figsize=(12,10))\n",
        "plt.plot(x, y)\n",
        "plt.title(\"Accuracy Vs Iteration\")\n",
        "plt.xlabel(\"Iteration\")\n",
        "plt.ylabel(\"Accuracy\")\n",
        "plt.show()"
      ],
      "execution_count": 24,
      "outputs": [
        {
          "output_type": "display_data",
          "data": {
            "image/png": "[encoded data removed]",
            "text/plain": [
              "<Figure size 864x720 with 1 Axes>"
            ]
          },
          "metadata": {
            "needs_background": "light"
          }
        }
      ]
    },
    {
      "cell_type": "code",
      "metadata": {
        "id": "-2DwUiSF6RoZ"
      },
      "source": [
        ""
      ],
      "execution_count": null,
      "outputs": []
    }
  ]
}